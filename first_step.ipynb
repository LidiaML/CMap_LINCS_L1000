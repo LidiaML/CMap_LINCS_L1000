{
  "nbformat": 4,
  "nbformat_minor": 0,
  "metadata": {
    "colab": {
      "name": "first_step.ipynb",
      "provenance": [],
      "collapsed_sections": [],
      "authorship_tag": "ABX9TyM0xhOJ0pBn4celA78X+NPX",
      "include_colab_link": true
    },
    "kernelspec": {
      "name": "python3",
      "display_name": "Python 3"
    }
  },
  "cells": [
    {
      "cell_type": "markdown",
      "metadata": {
        "id": "view-in-github",
        "colab_type": "text"
      },
      "source": [
        "<a href=\"https://colab.research.google.com/github/LidiaML/CMap_LINCS_L1000/blob/main/first_step.ipynb\" target=\"_parent\"><img src=\"https://colab.research.google.com/assets/colab-badge.svg\" alt=\"Open In Colab\"/></a>"
      ]
    },
    {
      "cell_type": "code",
      "metadata": {
        "id": "K5X9U3KrSdS4"
      },
      "source": [
        "import cmapBQ.query as cmap_query\n",
        "import cmapBQ.config as cmap_config\n",
        "cmap_config.setup_credentials('/aloy/home/lmateo/.auth/plasma-minutia-298810-adc525bff13b.json')"
      ],
      "execution_count": null,
      "outputs": []
    }
  ]
}